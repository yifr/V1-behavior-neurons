{
 "cells": [
  {
   "cell_type": "markdown",
   "metadata": {},
   "source": [
    "## Fit and analyze decoder models\n",
    "The next step of the BehaveNet pipeline is using simultaneously recorded neural activity to predict behavior. Specifically, we can predict either of our compressed descriptions of behavior: the convolutional autoencoder latents or the ARHMM states.\n",
    "\n",
    "We use linear models or feedforward deep networks to predict the state or latents for a given frame given a window of neural activity. We then compare our predictions to baseline (aka chance) performance. We can also use the convolutional autoencoder to convert the predicted latents into a full predicted behavioral video and compare to the original behavior.\n",
    "\n",
    "\n",
    "<br>\n",
    "\n",
    "### Contents\n",
    "* [Decoding discrete states](#Decoding-discrete-states)\n",
    "* [Decoding continuous latents](#Decoding-continuous-latents)\n",
    "* [Assess decoding performance](#Assess-decoding-performance)\n",
    "* [Plot true vs predicted latents](#Plot-true-vs-predicted-latents)\n",
    "* [Make real vs predicted movies](#Make-real-vs-predicted-movies)\n"
   ]
  },
  {
   "cell_type": "code",
   "execution_count": 1,
   "metadata": {},
   "outputs": [],
   "source": [
    "import time\n",
    "import pickle\n",
    "import scipy\n",
    "import scipy.io as sio\n",
    "import pandas as pd\n",
    "import seaborn as sns\n",
    "import numpy as np\n",
    "import matplotlib.pyplot as plt\n",
    "import matplotlib\n",
    "from tqdm import tqdm\n",
    "\n",
    "matplotlib.rcParams.update({'font.size': 18, 'figure.figsize': (16, 8)})\n",
    "from behavenet import get_user_dir, make_dir_if_not_exists\n",
    "from behavenet.data.utils import get_transforms_paths\n",
    "from behavenet.data.utils import load_labels_like_latents\n",
    "from behavenet.fitting.utils import get_expt_dir\n",
    "from behavenet.fitting.utils import get_session_dir\n",
    "from behavenet.fitting.utils import get_best_model_version\n",
    "from behavenet.fitting.utils import get_lab_example\n",
    "from behavenet.plotting.arhmm_utils import *\n",
    "\n",
    "from behavenet.fitting.utils import get_best_model_and_data\n",
    "from behavenet.fitting.eval import export_predictions\n",
    "from behavenet.models import Decoder\n",
    "\n",
    "save_outputs = True  # true to save figures/movies to user's figure directory\n",
    "format = 'png'  # figure format ('png' | 'jpeg' | 'pdf'); movies saved as mp4\n",
    "\n",
    "from sklearn.metrics import r2_score"
   ]
  },
  {
   "cell_type": "code",
   "execution_count": 2,
   "metadata": {
    "scrolled": true
   },
   "outputs": [],
   "source": [
    "from behavenet.fitting.utils import get_subdirs\n",
    "import os\n",
    "          \n",
    "def latent_results(expt_name=None, sess_id=\"\", version='best'):\n",
    "    # set model info\n",
    "    sess_idx = 0\n",
    "    hparams = {\n",
    "        'data_dir': get_user_dir('data'),\n",
    "        'save_dir': get_user_dir('save'),\n",
    "        'model_class': 'neural-ae',\n",
    "        'ae_model_type': 'conv',\n",
    "        'ae_experiment_name': 'latent_search',\n",
    "        'n_ae_latents': 9,\n",
    "        'experiment_name':'grid_search',\n",
    "        'model_type':'ff',\n",
    "        'n_max_lags': 8,\n",
    "        'rng_seed_data': 0,\n",
    "        'trial_splits': '8;1;1;0'\n",
    "    }\n",
    "\n",
    "    hparams['neural_ae_experiment_name'] = hparams['experiment_name']\n",
    "    hparams['neural_ae_model_type'] = hparams['model_type']\n",
    "    hparams['neural_ae_version'] = version\n",
    "    \n",
    "    get_lab_example(hparams, 'dipoppa', sess_id)\n",
    "    \n",
    "    hparams['session_dir'], sess_ids = get_session_dir(hparams)\n",
    "    expt_dir = get_expt_dir(hparams)\n",
    "\n",
    "    ## Get discrete chance performance (accuracy of always predicting the most common training state)\n",
    "    _, latents_file = get_transforms_paths('ae_latents', hparams, sess_ids[sess_idx])\n",
    "    with open(latents_file, 'rb') as f:\n",
    "        all_latents = pickle.load(f)\n",
    "    mean_ae_latents = np.mean(np.concatenate([all_latents['latents'][i] for i in all_latents['trials']['train']]),axis=0)\n",
    "\n",
    "    all_test_latents = np.concatenate([all_latents['latents'][i][hparams['n_max_lags']:-hparams['n_max_lags']] for i in all_latents['trials']['test']])\n",
    "    chance_ae_performance = np.mean((all_test_latents-mean_ae_latents)**2)\n",
    "    \n",
    "    ## Get discrete prediction performance\n",
    "    # If sub-sampling - make sure to get results labelled by sample method and index name \n",
    "    if expt_name is not None:\n",
    "        hparams['subsample_method'] = 'single'\n",
    "        hparams['subsample_idxs_name'] = expt_name\n",
    "        \n",
    "    \n",
    "    _, latent_predictions_file = get_transforms_paths('neural_ae_predictions', hparams, sess_ids[sess_idx])\n",
    "\n",
    "    \n",
    "    if not os.path.exists(latent_predictions_file):\n",
    "        model, data_generator = get_best_model_and_data(hparams, Decoder, load_data=True, version=version)\n",
    "        predictions = export_predictions(data_generator, model)\n",
    "        \n",
    "    with open(latent_predictions_file, 'rb') as f:\n",
    "        all_latent_predictions = pickle.load(f)\n",
    "    all_test_latent_predictions = np.concatenate([all_latent_predictions['predictions'][i][hparams['n_max_lags']:-hparams['n_max_lags']] for i in all_latents['trials']['test']])\n",
    "    decoding_ae_performance = np.mean((all_test_latents-all_test_latent_predictions)**2)\n",
    "    r2 = r2_score(all_test_latents, all_test_latent_predictions)\n",
    "    \n",
    "    return (chance_ae_performance, decoding_ae_performance, r2)\n"
   ]
  },
  {
   "cell_type": "markdown",
   "metadata": {},
   "source": [
    "# Decoding across cell types"
   ]
  },
  {
   "cell_type": "code",
   "execution_count": 7,
   "metadata": {},
   "outputs": [],
   "source": [
    "# Inhibitory Decoding Performance (SST Neurons):\n",
    "sst_mse = 0\n",
    "for i in range(10):\n",
    "    expt_name = 'sst85_sample_' + str(i)\n",
    "    chance_performance, inh_decoding_performance = latent_results(expt_name=expt_name)\n",
    "    sst_mse += inh_decoding_performance\n",
    "    \n",
    "# inh_decoding_performance = rsquared(inh_decoding_performance, chance_performance)\n",
    "\n",
    "#Excitatory Decoding Performance:\n",
    "sample_sizes = range(10)\n",
    "exc_decoding_errors = []\n",
    "for size in sample_sizes:\n",
    "    chance_performance, decoding_performance = latent_results(expt_name='exc85_sample_{}'.format(size))\n",
    "    exc_decoding_errors.append(decoding_performance)\n",
    "    "
   ]
  },
  {
   "cell_type": "code",
   "execution_count": 12,
   "metadata": {},
   "outputs": [
    {
     "name": "stdout",
     "output_type": "stream",
     "text": [
      "Loading model defined in /home/samsung_2tb_ssd/yoni/results/dipoppa/full_trial/MD0ST5/1/neural-ae/09_latents/ff/sst85_sample_1-single/grid_search/version_0/meta_tags.pkl\n",
      "saving predictions 1 of 1 to /home/samsung_2tb_ssd/yoni/results/dipoppa/full_trial/MD0ST5/1/neural-ae/09_latents/ff/sst85_sample_1-single/grid_search/version_0/dipoppa_full_trial_MD0ST5_1_predictions.pkl\n"
     ]
    }
   ],
   "source": [
    "hparams = {\n",
    "    'data_dir': get_user_dir('data'),\n",
    "    'save_dir': get_user_dir('save'),\n",
    "    'model_class': 'neural-ae',\n",
    "    'ae_model_type': 'conv',\n",
    "    'ae_experiment_name': 'latent_search',\n",
    "    'n_ae_latents': 9,\n",
    "    'experiment_name':'grid_search',\n",
    "    'model_type':'ff',\n",
    "    'n_max_lags': 8,\n",
    "    'rng_seed_data': 0,\n",
    "    'trial_splits': '8;1;1;0'\n",
    "}\n",
    "\n",
    "hparams['neural_ae_experiment_name'] = hparams['experiment_name']\n",
    "hparams['neural_ae_model_type'] = hparams['model_type']\n",
    "hparams['subsample_method'] = 'single'\n",
    "hparams['subsample_idxs_name'] = 'sst85_sample_1'\n",
    "\n",
    "get_lab_example(hparams, 'dipoppa', 'session_1')\n",
    "\n",
    "hparams['session_dir'], sess_ids = get_session_dir(hparams)\n",
    "model, data_generator = get_best_model_and_data(hparams, Decoder, load_data=True, version='best')\n",
    "predictions = export_predictions(data_generator, model)"
   ]
  },
  {
   "cell_type": "markdown",
   "metadata": {},
   "source": [
    "# Decoding by number of neurons"
   ]
  },
  {
   "cell_type": "code",
   "execution_count": 35,
   "metadata": {
    "scrolled": false
   },
   "outputs": [],
   "source": [
    "sample_sizes = [20, 40, 60, 80, 100, 200, 300, 400, 600, 700, 800, 900, 1200, 1300]\n",
    "decoding_errors_dict = {}\n",
    "for i, SESS_ID in enumerate(['full_trial']):\n",
    "    decoding_errors_dict[i] = {}\n",
    "    for _, size in enumerate(sample_sizes):\n",
    "        decoding_errors_dict[i][size] = []\n",
    "        for t in range(10):\n",
    "            expt_name='n{}_t{}'.format(size, t)\n",
    "            chance_performance, decoding_mse, decoding_r2,  = latent_results(expt_name=expt_name, \n",
    "                                                                             sess_id=SESS_ID, \n",
    "                                                                             version='best')\n",
    "            decoding_errors_dict[i][size].append(decoding_mse / chance_performance)"
   ]
  },
  {
   "cell_type": "code",
   "execution_count": 36,
   "metadata": {},
   "outputs": [
    {
     "data": {
      "image/png": "[encoded data removed]",
      "text/plain": [
       "<Figure size 1152x576 with 1 Axes>"
      ]
     },
     "metadata": {
      "needs_background": "light"
     },
     "output_type": "display_data"
    }
   ],
   "source": [
    "fig = plt.figure(figsize=(16,8))\n",
    "std_errors = [scipy.stats.sem(decoding_errors_dict[0][x]) for x in sample_sizes]\n",
    "mean_errors = [np.mean(decoding_errors_dict[0][x]) for x in sample_sizes]\n",
    "\n",
    "plt.scatter(sample_sizes, mean_errors, color='#3030D3')\n",
    "plt.errorbar(sample_sizes, mean_errors, yerr=std_errors, color='#FF0000', fmt='.')\n",
    "plt.xscale('log')\n",
    "plt.yscale('log')\n",
    "\n",
    "plt.ylabel('Mean Squared Error', fontsize=16)\n",
    "plt.xlabel('Number of Neurons', fontsize=16)\n",
    "plt.title('Latent Decoding by Number of Neurons', fontsize=18)\n",
    "plt.show()"
   ]
  },
  {
   "cell_type": "code",
   "execution_count": null,
   "metadata": {},
   "outputs": [],
   "source": []
  }
 ],
 "metadata": {
  "kernelspec": {
   "display_name": "behavenet",
   "language": "python",
   "name": "behavenet"
  },
  "language_info": {
   "codemirror_mode": {
    "name": "ipython",
    "version": 3
   },
   "file_extension": ".py",
   "mimetype": "text/x-python",
   "name": "python",
   "nbconvert_exporter": "python",
   "pygments_lexer": "ipython3",
   "version": "3.5.2"
  }
 },
 "nbformat": 4,
 "nbformat_minor": 2
}
