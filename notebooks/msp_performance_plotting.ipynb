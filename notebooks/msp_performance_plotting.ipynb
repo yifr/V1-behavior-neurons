{
 "cells": [
  {
   "cell_type": "markdown",
   "metadata": {},
   "source": [
    "## AE-MSP plotting\n",
    "* losses vs epoch\n",
    "* evaluate orthogonality of projection matrix\n",
    "* true vs predicted labels"
   ]
  },
  {
   "cell_type": "code",
   "execution_count": 1,
   "metadata": {},
   "outputs": [],
   "source": [
    "import os\n",
    "import pandas as pd\n",
    "import seaborn as sns\n",
    "import numpy as np\n",
    "import matplotlib.pyplot as plt\n",
    "from behavenet import get_user_dir, make_dir_if_not_exists\n",
    "\n",
    "save_outputs = False  # true to save figures/movies to user's figure directory\n",
    "format = 'png'  # figure format ('png' | 'jpeg' | 'pdf'); movies saved as mp4"
   ]
  },
  {
   "cell_type": "markdown",
   "metadata": {},
   "source": [
    "### loss vs epoch"
   ]
  },
  {
   "cell_type": "code",
   "execution_count": 2,
   "metadata": {},
   "outputs": [],
   "source": [
    "from behavenet.plotting import load_metrics_csv_as_df\n",
    "# set model info\n",
    "dataset = 'dipoppa'\n",
    "hparams = {\n",
    "    'data_dir': get_user_dir('data'),\n",
    "    'save_dir': get_user_dir('save'),\n",
    "    'experiment_name': 'latent_search',\n",
    "    'model_class': 'cond-ae-msp',\n",
    "    'model_type': 'conv',\n",
    "    'n_ae_latents': 6,\n",
    "}\n",
    "if dataset == 'ibl':\n",
    "    lab = 'ibl'\n",
    "    expt = 'ephys'\n",
    "    n_labels = 8\n",
    "if dataset == 'dipoppa':\n",
    "    lab = 'dipoppa'\n",
    "    expt = 'MSP_pupil'\n",
    "    n_labels = 3\n",
    "else:\n",
    "    raise Exception\n",
    "hparams['n_ae_latents'] += n_labels\n",
    "metrics_list = ['loss', 'loss_mse', 'loss_mse', 'r2']\n",
    "metrics_df = load_metrics_csv_as_df(hparams, lab, expt, metrics_list, version='best')"
   ]
  },
  {
   "cell_type": "code",
   "execution_count": 3,
   "metadata": {
    "scrolled": false
   },
   "outputs": [
    {
     "ename": "NameError",
     "evalue": "name 'val_r2' is not defined",
     "output_type": "error",
     "traceback": [
      "\u001b[0;31m---------------------------------------------------------------------------\u001b[0m",
      "\u001b[0;31mNameError\u001b[0m                                 Traceback (most recent call last)",
      "\u001b[0;32m<ipython-input-3-85d1714f45fb>\u001b[0m in \u001b[0;36m<module>\u001b[0;34m\u001b[0m\n\u001b[1;32m     30\u001b[0m         \u001b[0mplt\u001b[0m\u001b[0;34m.\u001b[0m\u001b[0msavefig\u001b[0m\u001b[0;34m(\u001b[0m\u001b[0msave_file\u001b[0m \u001b[0;34m+\u001b[0m \u001b[0;34m'.'\u001b[0m \u001b[0;34m+\u001b[0m \u001b[0mformat\u001b[0m\u001b[0;34m,\u001b[0m \u001b[0mdpi\u001b[0m\u001b[0;34m=\u001b[0m\u001b[0;36m300\u001b[0m\u001b[0;34m,\u001b[0m \u001b[0mformat\u001b[0m\u001b[0;34m=\u001b[0m\u001b[0mformat\u001b[0m\u001b[0;34m)\u001b[0m\u001b[0;34m\u001b[0m\u001b[0;34m\u001b[0m\u001b[0m\n\u001b[1;32m     31\u001b[0m \u001b[0;34m\u001b[0m\u001b[0m\n\u001b[0;32m---> 32\u001b[0;31m \u001b[0mplt\u001b[0m\u001b[0;34m.\u001b[0m\u001b[0mscatter\u001b[0m\u001b[0;34m(\u001b[0m\u001b[0;36m1001\u001b[0m\u001b[0;34m,\u001b[0m \u001b[0mval_r2\u001b[0m\u001b[0;34m,\u001b[0m \u001b[0mmarker\u001b[0m\u001b[0;34m=\u001b[0m\u001b[0;34m'^'\u001b[0m\u001b[0;34m,\u001b[0m \u001b[0mcolor\u001b[0m\u001b[0;34m=\u001b[0m\u001b[0;34m'red'\u001b[0m\u001b[0;34m,\u001b[0m \u001b[0malpha\u001b[0m\u001b[0;34m=\u001b[0m\u001b[0;36m0.7\u001b[0m\u001b[0;34m,\u001b[0m \u001b[0mlabel\u001b[0m\u001b[0;34m=\u001b[0m\u001b[0;34m'Val After Training'\u001b[0m\u001b[0;34m)\u001b[0m\u001b[0;34m\u001b[0m\u001b[0;34m\u001b[0m\u001b[0m\n\u001b[0m\u001b[1;32m     33\u001b[0m \u001b[0mplt\u001b[0m\u001b[0;34m.\u001b[0m\u001b[0mscatter\u001b[0m\u001b[0;34m(\u001b[0m\u001b[0;36m1001\u001b[0m\u001b[0;34m,\u001b[0m \u001b[0mtest_r2\u001b[0m\u001b[0;34m,\u001b[0m \u001b[0mmarker\u001b[0m\u001b[0;34m=\u001b[0m\u001b[0;34m'v'\u001b[0m\u001b[0;34m,\u001b[0m \u001b[0mcolor\u001b[0m\u001b[0;34m=\u001b[0m\u001b[0;34m'purple'\u001b[0m\u001b[0;34m,\u001b[0m \u001b[0malpha\u001b[0m\u001b[0;34m=\u001b[0m\u001b[0;36m0.7\u001b[0m\u001b[0;34m,\u001b[0m \u001b[0mlabel\u001b[0m\u001b[0;34m=\u001b[0m\u001b[0;34m'Test After Training'\u001b[0m\u001b[0;34m)\u001b[0m\u001b[0;34m\u001b[0m\u001b[0;34m\u001b[0m\u001b[0m\n\u001b[1;32m     34\u001b[0m \u001b[0mplt\u001b[0m\u001b[0;34m.\u001b[0m\u001b[0mlegend\u001b[0m\u001b[0;34m(\u001b[0m\u001b[0;34m)\u001b[0m\u001b[0;34m\u001b[0m\u001b[0;34m\u001b[0m\u001b[0m\n",
      "\u001b[0;31mNameError\u001b[0m: name 'val_r2' is not defined"
     ]
    },
    {
     "data": {
      "text/plain": [
       "<Figure size 1152x864 with 0 Axes>"
      ]
     },
     "metadata": {},
     "output_type": "display_data"
    },
    {
     "data": {
      "image/png": "[encoded data removed]",
      "text/plain": [
       "<Figure size 826.775x360 with 1 Axes>"
      ]
     },
     "metadata": {},
     "output_type": "display_data"
    }
   ],
   "source": [
    "# plot data\n",
    "sns.set_style('white')\n",
    "sns.set_context('talk')\n",
    "\n",
    "ys = ['r2']\n",
    "fig = plt.figure(figsize=(16,12)) #plt.subplots(2, 2, figsize=(22,16))\n",
    "\n",
    "for y in ys:\n",
    "    \n",
    "    data_queried = metrics_df[(metrics_df.epoch > 10) & ~pd.isna(metrics_df.loss)]\n",
    "    g = sns.relplot(x='epoch', y=y, hue='dtype', kind='line', aspect=2, data=data_queried)\n",
    "    g._legend.remove()\n",
    "\n",
    "    plt.xlabel('Epoch')\n",
    "    if y == 'loss':\n",
    "        ax.set_ylabel('Total loss')\n",
    "        ax.set_yscale('log')\n",
    "    elif y == 'loss_mse':\n",
    "        ax.set_ylabel('MSE per pixel')\n",
    "        ax.set_yscale('log')\n",
    "    elif y == 'loss_msp':\n",
    "        ax.set_ylabel('MSE per label')\n",
    "        ax.set_yscale('log')\n",
    "    elif y == 'r2':\n",
    "        plt.ylabel('Label $R^2$')\n",
    "\n",
    "    if save_outputs:\n",
    "        save_file = os.path.join(get_user_dir('fig'), 'ae', 'loss_vs_epoch')\n",
    "        make_dir_if_not_exists(save_file)\n",
    "        plt.savefig(save_file + '.' + format, dpi=300, format=format)\n",
    "\n",
    "plt.scatter(1001, val_r2, marker='^', color='red', alpha=0.7, label='Val After Training')\n",
    "plt.scatter(1001, test_r2, marker='v', color='purple', alpha=0.7, label='Test After Training')\n",
    "plt.legend()\n",
    "plt.show()"
   ]
  },
  {
   "cell_type": "markdown",
   "metadata": {},
   "source": [
    "### true vs predicted labels"
   ]
  },
  {
   "cell_type": "code",
   "execution_count": 8,
   "metadata": {},
   "outputs": [
    {
     "name": "stdout",
     "output_type": "stream",
     "text": [
      "Loading model defined in /home/samsung_2tb_ssd/yoni/results/dipoppa/MSP_pupil/SB028/6/cond-ae-msp/conv/09_latents/latent_search/version_0/meta_tags.pkl\n",
      "Generator contains 1 SingleSessionDatasetBatchedLoad objects:\n",
      "dipoppa_MSP_pupil_SB028_6\n",
      "    signals: ['images', 'labels']\n",
      "    transforms: OrderedDict([('images', None), ('labels', None)])\n",
      "    paths: OrderedDict([('images', '/home/samsung_2tb_ssd/yoni/data/dipoppa/MSP_pupil/SB028/6/data.hdf5'), ('labels', '/home/samsung_2tb_ssd/yoni/data/dipoppa/MSP_pupil/SB028/6/data.hdf5')])\n",
      "\n",
      "\n",
      "msp_weight: 1.00e+00\n"
     ]
    }
   ],
   "source": [
    "# from behavenet.data.utils import get_data_generator_inputs\n",
    "# from behavenet.data.data_generator import ConcatSessionsGenerator\n",
    "from behavenet.fitting.utils import get_best_model_and_data, get_lab_example\n",
    "from behavenet.models import AEMSP\n",
    "\n",
    "# movie info\n",
    "save_outputs = False\n",
    "dataset = 'dipoppa'\n",
    "n_latents = 6 # n_labels will be added to this\n",
    "\n",
    "# set model info\n",
    "version = 'best' # 'best'  # test-tube version; 'best' finds the version with the lowest mse\n",
    "sess_idx = 0  # when using a multisession, this determines which session is used\n",
    "hparams = {\n",
    "    'data_dir': get_user_dir('data'),\n",
    "    'save_dir': get_user_dir('save'),\n",
    "    'experiment_name': 'latent_search',\n",
    "    'model_class': 'cond-ae-msp',\n",
    "    'model_type': 'conv'}\n",
    "\n",
    "\n",
    "lab = 'dipoppa'\n",
    "expt = 'MSP_pupil'\n",
    "trials = list(range(10))\n",
    "n_labels = 3\n",
    "\n",
    "# programmatically fill out other hparams options\n",
    "hparams['n_ae_latents'] = n_latents + n_labels\n",
    "get_lab_example(hparams, lab, expt)   \n",
    "\n",
    "model, data_generator = get_best_model_and_data(\n",
    "    hparams, AEMSP, load_data=True, version=0, data_kwargs=None)\n",
    "n_labels = model.n_labels\n",
    "print(data_generator)\n",
    "print('\\nmsp_weight: %1.2e' % model.hparams['msp_weight'])"
   ]
  },
  {
   "cell_type": "code",
   "execution_count": 9,
   "metadata": {},
   "outputs": [],
   "source": [
    "from behavenet.fitting.utils import create_tt_experiment, build_data_generator\n",
    "from behavenet.fitting.utils import get_session_dir, get_expt_dir\n",
    "from behavenet.data.utils import get_data_generator_inputs\n",
    "from behavenet.data.data_generator import ConcatSessionsGenerator\n",
    "\n",
    "hparams['session_dir'], sess_ids = get_session_dir(hparams)\n",
    "hparams['expt_dir'] = get_expt_dir(hparams)\n",
    "hparams, signals, transforms, paths = get_data_generator_inputs(hparams, sess_ids)\n",
    "\n",
    "data_generator = ConcatSessionsGenerator(\n",
    "    hparams['data_dir'], sess_ids, \n",
    "    signals_list=signals, transforms_list=transforms, paths_list=paths,\n",
    "    device='cpu', as_numpy=False, batch_load=True, rng_seed=0)\n",
    "trial = data_generator.datasets[sess_idx].batch_idxs['test'][2]  # trial to use in movie\n"
   ]
  },
  {
   "cell_type": "code",
   "execution_count": null,
   "metadata": {},
   "outputs": [
    {
     "name": "stdout",
     "output_type": "stream",
     "text": [
      "Trial #63\n",
      "Trial #33\n",
      "Trial #203\n",
      "Trial #173\n",
      "Trial #123\n",
      "Trial #233\n",
      "Trial #183\n",
      "Trial #133\n",
      "Trial #243\n",
      "Trial #153\n",
      "Trial #23\n",
      "Trial #113\n",
      "Trial #143\n",
      "Trial #93\n",
      "Trial #73\n",
      "Trial #193\n",
      "Trial #53\n",
      "Trial #103\n",
      "Trial #83\n"
     ]
    }
   ],
   "source": [
    "from behavenet.plotting.ae_utils import plot_neural_reconstruction_traces\n",
    "\n",
    "all_labels = []\n",
    "all_labels_pred = []\n",
    "trials = data_generator.datasets[sess_idx].batch_idxs['test']\n",
    "\n",
    "num_trials = 0\n",
    "for trial in trials:\n",
    "    print('Trial #{}'.format(trial))\n",
    "    batch = data_generator.datasets[sess_idx][trial]\n",
    "    labels_og = batch['labels'].detach().cpu().numpy()\n",
    "    if labels_og.shape[0] != 150:\n",
    "        continue \n",
    "        \n",
    "    _, _, labels_pred = model(batch['images'])\n",
    "    all_labels.append(labels_og)\n",
    "    all_labels_pred.append(labels_pred.detach().numpy())\n",
    "    num_trials += labels_og.shape[0]\n",
    "    \n",
    "labels_og = np.array(all_labels)\n",
    "labels_pred = np.array(all_labels_pred)"
   ]
  },
  {
   "cell_type": "code",
   "execution_count": null,
   "metadata": {},
   "outputs": [],
   "source": [
    "labels_og[0].shape, labels_pred[0][2].shape"
   ]
  },
  {
   "cell_type": "code",
   "execution_count": null,
   "metadata": {},
   "outputs": [],
   "source": [
    "labels_og = np.zeros((num_trials, 3), float)\n",
    "labels_pred = np.zeros((num_trials, 3), float)\n",
    "for i in range(len(all_labels)):\n",
    "    og_shape = all_labels[i].shape[0]\n",
    "    pred_shape = all_labels_pred[i].shape[0]\n",
    "    \n",
    "    labels_og[i*og_shape:(i+1)*og_shape, :] = all_labels[i]\n",
    "    labels_pred[i*pred_shape:(i+1)*pred_shape, :] = all_labels_pred[i]"
   ]
  },
  {
   "cell_type": "code",
   "execution_count": null,
   "metadata": {},
   "outputs": [],
   "source": [
    "from sklearn.metrics import r2_score\n",
    "\n",
    "plt.style.use('fivethirtyeight')\n",
    "fig, (ax1, ax2) = plt.subplots(1, 2, figsize=(18,10))\n",
    "ax1.plot(labels_og[:, 0], label='Original Area')\n",
    "ax1.plot(labels_pred[:, 0], label='Reconstructed')\n",
    "r2 = r2_score(labels_og[:, 0], labels_pred[:, 0], multioutput='variance_weighted')\n",
    "ax1.text(\n",
    "            1.1, -1.3, '$R^2$=%1.3f' % r2, horizontalalignment='left', verticalalignment='bottom',\n",
    "            bbox=dict(facecolor='white', alpha=0.7, edgecolor=[1, 1, 1]))\n",
    "ax1.set_title('Pupil Area Reconstruction')\n",
    "ax1.set_xlabel('Frames (30 FPS)')\n",
    "\n",
    "ax1.legend()\n",
    "\n",
    "ax2.scatter(labels_og[:, 1], labels_og[:, 2], label='Original COM', alpha=0.4)\n",
    "ax2.scatter(labels_pred[:, 1], labels_pred[:, 2], label='Reconstructed', alpha=0.9)\n",
    "r2 = r2_score(labels_pred[:, 1:3], labels_og[:, 1:3], multioutput='variance_weighted')\n",
    "ax2.text(\n",
    "            0.05, 0.06, '$R^2$=%1.3f' % r2, horizontalalignment='left', verticalalignment='bottom',\n",
    "            transform=plt.gca().transAxes,\n",
    "            bbox=dict(facecolor='white', alpha=0.7, edgecolor=[1, 1, 1]))\n",
    "ax2.set_title('Pupil Center of Mass Reconstruction')\n",
    "ax2.legend()\n",
    "labels_pred = labels_pred[:, :3]\n",
    "plt.suptitle('Validation Data Labeled Latent Reconstruction')\n",
    "print(labels_pred.shape)"
   ]
  },
  {
   "cell_type": "code",
   "execution_count": 19,
   "metadata": {},
   "outputs": [],
   "source": [
    "val_r2 = r2_score(labels_og, labels_pred)"
   ]
  },
  {
   "cell_type": "code",
   "execution_count": null,
   "metadata": {},
   "outputs": [],
   "source": [
    "plot_neural_reconstruction_traces(labels_og[:, :1], labels_pred[:, :1], scale=0.4)"
   ]
  },
  {
   "cell_type": "code",
   "execution_count": null,
   "metadata": {},
   "outputs": [],
   "source": [
    "plt = plot_neural_reconstruction_traces(labels_og[:, 0:1], labels_pred[:, 0:1], scale=10)"
   ]
  },
  {
   "cell_type": "markdown",
   "metadata": {},
   "source": [
    "### evaluate orthogonality of projection matrix"
   ]
  },
  {
   "cell_type": "code",
   "execution_count": null,
   "metadata": {},
   "outputs": [],
   "source": [
    "U = model.U.weight.data.cpu().detach().numpy()"
   ]
  },
  {
   "cell_type": "code",
   "execution_count": null,
   "metadata": {},
   "outputs": [],
   "source": [
    "import matplotlib.pyplot as plt\n",
    "plt.figure(figsize=(6, 6))\n",
    "overlap = np.matmul(U, U.T)\n",
    "m = np.max(np.abs(overlap))\n",
    "plt.imshow(overlap, cmap='RdBu', vmin=-m, vmax=m)\n",
    "plt.colorbar()\n",
    "plt.show()"
   ]
  },
  {
   "cell_type": "markdown",
   "metadata": {},
   "source": [
    "### plot all trials"
   ]
  },
  {
   "cell_type": "code",
   "execution_count": null,
   "metadata": {},
   "outputs": [],
   "source": [
    "n_labels"
   ]
  },
  {
   "cell_type": "code",
   "execution_count": null,
   "metadata": {},
   "outputs": [],
   "source": [
    "def plot_traces(\n",
    "    traces, n_labels, save_file=None, xtick_locs=None, frame_rate=None, format='png', \n",
    "    scale=0.5):\n",
    "    \n",
    "    import matplotlib.pyplot as plt\n",
    "    import matplotlib.lines as mlines\n",
    "    import seaborn as sns\n",
    "\n",
    "    sns.set_style('white')\n",
    "    sns.set_context('poster')\n",
    "\n",
    "    means = np.mean(traces, axis=0)\n",
    "    std = np.std(traces, axis=0) / scale  # scale for better visualization\n",
    "\n",
    "    traces_sc = (traces - means) / std\n",
    "\n",
    "    fig = plt.figure(figsize=(12, 8))\n",
    "    # plot label-related traces\n",
    "    plt.plot(traces_sc[:, :n_labels] + np.arange(n_labels), linewidth=3)\n",
    "    plt.plot(\n",
    "        traces_sc[:, n_labels:] + n_labels + np.arange(traces.shape[1]-n_labels), \n",
    "        color=[0.2, 0.2, 0.2], linewidth=3)\n",
    "\n",
    "    # add legend\n",
    "    # original latents - gray\n",
    "    orig_line = mlines.Line2D([], [], color=[0.2, 0.2, 0.2], linewidth=3)\n",
    "    # predicted latents - cycle through some colors\n",
    "    colors = plt.rcParams['axes.prop_cycle'].by_key()['color']\n",
    "    dls = []\n",
    "    for c in range(5):\n",
    "        dls.append(mlines.Line2D(\n",
    "            [], [], linewidth=3, linestyle='--', dashes=(0, 3 * c, 20, 1), \n",
    "            color='%s' % colors[c]))\n",
    "    plt.legend(\n",
    "        [orig_line, tuple(dls)], ['Unconstrained', 'Label-predicting'],\n",
    "        loc='lower right', frameon=True, framealpha=0.7, edgecolor=[1, 1, 1])\n",
    "\n",
    "    if xtick_locs is not None and frame_rate is not None:\n",
    "        plt.xticks(xtick_locs, (np.asarray(xtick_locs) / frame_rate).astype('int'))\n",
    "        plt.xlabel('Time (s)')\n",
    "    else:\n",
    "        plt.xlabel('Time (bins)')\n",
    "    plt.ylabel('Latent state')\n",
    "    plt.yticks([])\n",
    "\n",
    "    if save_file is not None:\n",
    "        make_dir_if_not_exists(save_file)\n",
    "        plt.savefig(save_file + '.' + format, dpi=300, format=format)\n",
    "\n",
    "    plt.show()"
   ]
  },
  {
   "cell_type": "code",
   "execution_count": null,
   "metadata": {},
   "outputs": [],
   "source": [
    "trial_4_trials = trials"
   ]
  },
  {
   "cell_type": "code",
   "execution_count": null,
   "metadata": {},
   "outputs": [],
   "source": [
    "import matplotlib.pyplot as plt"
   ]
  },
  {
   "cell_type": "code",
   "execution_count": null,
   "metadata": {
    "scrolled": false
   },
   "outputs": [],
   "source": [
    "for trial in trials:\n",
    "    batch = data_generator.datasets[sess_idx][trial]\n",
    "    labels_og = batch['labels'].detach().cpu().numpy()\n",
    "    labels_pred = model.get_transformed_latents(batch['images'])\n",
    "    \n",
    "    plt = plot_traces(labels_pred, scale=0.4, n_labels=n_labels)"
   ]
  },
  {
   "cell_type": "code",
   "execution_count": null,
   "metadata": {},
   "outputs": [],
   "source": [
    "# from behavenet.data.utils import get_data_generator_inputs\n",
    "# from behavenet.data.data_generator import ConcatSessionsGenerator\n",
    "from behavenet.fitting.utils import get_best_model_and_data, get_lab_example\n",
    "from behavenet.models import AEMSP\n",
    "\n",
    "# movie info\n",
    "save_outputs = False\n",
    "dataset = 'dipoppa'\n",
    "n_latents = 6 # n_labels will be added to this\n",
    "\n",
    "# set model info\n",
    "version = 'best' # 'best'  # test-tube version; 'best' finds the version with the lowest mse\n",
    "sess_idx = 0  # when using a multisession, this determines which session is used\n",
    "hparams = {\n",
    "    'data_dir': get_user_dir('data'),\n",
    "    'save_dir': get_user_dir('save'),\n",
    "    'experiment_name': 'pupil_msp',\n",
    "    'model_class': 'cond-ae-msp',\n",
    "    'model_type': 'conv'}\n",
    "\n",
    "\n",
    "lab = 'dipoppa'\n",
    "expt = 'pupil_msp'\n",
    "trials = list(range(10))\n",
    "n_labels = 3\n",
    "\n",
    "# programmatically fill out other hparams options\n",
    "hparams['n_ae_latents'] = n_latents + n_labels\n",
    "get_lab_example(hparams, lab, expt)   \n",
    "\n",
    "model_4, sess_4_data_generator = get_best_model_and_data(\n",
    "    hparams, AEMSP, load_data=True, version='best', data_kwargs=None)"
   ]
  },
  {
   "cell_type": "code",
   "execution_count": null,
   "metadata": {},
   "outputs": [],
   "source": [
    "# from behavenet.data.utils import get_data_generator_inputs\n",
    "# from behavenet.data.data_generator import ConcatSessionsGenerator\n",
    "from behavenet.fitting.utils import get_best_model_and_data, get_lab_example\n",
    "from behavenet.models import AEMSP\n",
    "\n",
    "# movie info\n",
    "save_outputs = False\n",
    "dataset = 'dipoppa'\n",
    "n_latents = 6 # n_labels will be added to this\n",
    "\n",
    "# set model info\n",
    "version = 'best' # 'best'  # test-tube version; 'best' finds the version with the lowest mse\n",
    "sess_idx = 0  # when using a multisession, this determines which session is used\n",
    "hparams = {\n",
    "    'data_dir': get_user_dir('data'),\n",
    "    'save_dir': get_user_dir('save'),\n",
    "    'experiment_name': 'latent_search',\n",
    "    'model_class': 'cond-ae-msp',\n",
    "    'model_type': 'conv'}\n",
    "\n",
    "\n",
    "lab = 'dipoppa'\n",
    "expt = 'pupil_msp'\n",
    "trials = list(range(10))\n",
    "n_labels = 3\n",
    "\n",
    "# programmatically fill out other hparams options\n",
    "hparams['n_ae_latents'] = n_latents + n_labels\n",
    "get_lab_example(hparams, lab, expt)   \n",
    "\n",
    "model_1, sess_1_data_generator = get_best_model_and_data(\n",
    "    hparams, AEMSP, load_data=True, version='best', data_kwargs=None)"
   ]
  },
  {
   "cell_type": "code",
   "execution_count": null,
   "metadata": {},
   "outputs": [],
   "source": [
    "sess_1_test = sess_1_data_generator.datasets[sess_idx].batch_idxs['test']\n",
    "sess_4_test = sess_4_data_generator.datasets[sess_idx].batch_idxs['test']\n"
   ]
  },
  {
   "cell_type": "code",
   "execution_count": null,
   "metadata": {},
   "outputs": [],
   "source": [
    "a = set(sess_1_test)\n",
    "b = set(sess_1_test)\n",
    "a.intersection(b)"
   ]
  },
  {
   "cell_type": "code",
   "execution_count": null,
   "metadata": {},
   "outputs": [],
   "source": [
    "sess_1_data_generator.n_tot_batches"
   ]
  },
  {
   "cell_type": "code",
   "execution_count": null,
   "metadata": {},
   "outputs": [],
   "source": [
    "sess_4_data_generator.n_tot_batches"
   ]
  }
 ],
 "metadata": {
  "kernelspec": {
   "display_name": "behavenet",
   "language": "python",
   "name": "behavenet"
  },
  "language_info": {
   "codemirror_mode": {
    "name": "ipython",
    "version": 3
   },
   "file_extension": ".py",
   "mimetype": "text/x-python",
   "name": "python",
   "nbconvert_exporter": "python",
   "pygments_lexer": "ipython3",
   "version": "3.7.2"
  }
 },
 "nbformat": 4,
 "nbformat_minor": 4
}
