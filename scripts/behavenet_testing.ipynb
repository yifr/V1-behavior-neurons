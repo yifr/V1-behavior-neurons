{
 "cells": [
  {
   "cell_type": "code",
   "execution_count": 9,
   "metadata": {},
   "outputs": [],
   "source": [
    "from behavenet.fitting.hyperparam_utils import get_all_params\n",
    "from behavenet.fitting.utils import build_data_generator\n",
    "from behavenet.fitting.utils import create_tt_experiment\n",
    "import pprint as pp\n",
    "import numpy as np\n",
    "import sys"
   ]
  },
  {
   "cell_type": "code",
   "execution_count": 10,
   "metadata": {},
   "outputs": [],
   "source": [
    "import math\n",
    "\n",
    "def count_nan(mat):\n",
    "    c = 0\n",
    "    for i in range(mat.shape[0]):\n",
    "        for j in range(mat.shape[1]):\n",
    "            if math.isnan(mat[i][j]):\n",
    "                c += 1\n",
    "    return c"
   ]
  },
  {
   "cell_type": "code",
   "execution_count": 11,
   "metadata": {},
   "outputs": [
    {
     "data": {
      "text/plain": [
       "(54602, 1452)"
      ]
     },
     "execution_count": 11,
     "metadata": {},
     "output_type": "execute_result"
    }
   ],
   "source": [
    "from scipy.io import loadmat\n",
    "na = loadmat('../neural_dir/neural_activity2018-04-04_4_MD0ST5.mat')['neural_activity']\n",
    "na.shape"
   ]
  },
  {
   "cell_type": "code",
   "execution_count": 12,
   "metadata": {},
   "outputs": [
    {
     "data": {
      "text/plain": [
       "'/home/yoni/.behavenet'"
      ]
     },
     "execution_count": 12,
     "metadata": {},
     "output_type": "execute_result"
    }
   ],
   "source": [
    "import os\n",
    "os.path.expanduser('~/.behavenet')"
   ]
  },
  {
   "cell_type": "code",
   "execution_count": 13,
   "metadata": {},
   "outputs": [
    {
     "name": "stdout",
     "output_type": "stream",
     "text": [
      "/home/yoni/behavenet/results/dipoppa/full_trial/MD0ST5/4/neural-ae/09_latents/ff/None-single/grid_search/version_0/meta_tags.pkl\n",
      "/home/yoni/behavenet/results/dipoppa/full_trial/MD0ST5/4/neural-ae/09_latents/ff/None-single/grid_search/version_1/meta_tags.pkl\n"
     ]
    }
   ],
   "source": [
    "sys.argv = 'blank --data_config /home/yoni/.behavenet/decoding_data.json --model_config \\\n",
    "/home/yoni/.behavenet/decoding_ae_model.json --training_config /home/yoni/.behavenet/decoding_training.json --compute_config \\\n",
    "/home/yoni/.behavenet/decoding_compute.json'.split(' ')\n",
    "\n",
    "sess_args = '--data_config /home/yoni/behavenet/decoding_data.json --model_config \\\n",
    "../.behavenet/decoding_ae_model.json --training_config ../.behavenet/decoding_training.json --compute_config \\\n",
    "../.behavenet/decoding_compute.json'.split(' ')\n",
    "\n",
    "hparams = get_all_params(sess_args)\n",
    "if not isinstance(hparams, dict):\n",
    "    hparams = vars(hparams)\n",
    "\n",
    "hparams, sess_ids, exp = create_tt_experiment(hparams)"
   ]
  },
  {
   "cell_type": "code",
   "execution_count": 19,
   "metadata": {},
   "outputs": [
    {
     "name": "stdout",
     "output_type": "stream",
     "text": [
      "Hyperparameters: \n",
      "{'activation': 'relu',\n",
      " 'ae_experiment_name': 'latent_search',\n",
      " 'ae_model_type': 'conv',\n",
      " 'ae_multisession': None,\n",
      " 'ae_version': 'best',\n",
      " 'animal': 'MD0ST5',\n",
      " 'approx_batch_size': 200,\n",
      " 'as_numpy': False,\n",
      " 'batch_load': True,\n",
      " 'compute_config': '/home/yoni/.behavenet/decoding_compute.json',\n",
      " 'data_config': '/home/yoni/.behavenet/decoding_data.json',\n",
      " 'data_dir': '/home/yoni/behavenet/data',\n",
      " 'device': 'cpu',\n",
      " 'early_stop_history': 10,\n",
      " 'enable_early_stop': True,\n",
      " 'experiment_name': 'grid_search',\n",
      " 'export_predictions': True,\n",
      " 'expt': 'full_trial',\n",
      " 'expt_dir': '/home/yoni/behavenet/results/dipoppa/full_trial/MD0ST5/4/neural-ae/09_latents/ff/None-single/grid_search',\n",
      " 'frame_rate': 30.0,\n",
      " 'generate_trials': <bound method HyperOptArgumentParser.generate_trials of HyperOptArgumentParser(prog='blank', usage=None, description=None, formatter_class=<class 'argparse.HelpFormatter'>, conflict_handler='error', add_help=True)>,\n",
      " 'gpus_viz': '0;1',\n",
      " 'hpc_exp_number': None,\n",
      " 'l2_reg': None,\n",
      " 'lab': 'dipoppa',\n",
      " 'learning_rate': 0.001,\n",
      " 'max_n_epochs': 500,\n",
      " 'min_n_epochs': 10,\n",
      " 'model_class': 'neural-ae',\n",
      " 'model_config': '/home/yoni/.behavenet/decoding_ae_model.json',\n",
      " 'model_type': 'ff',\n",
      " 'n_ae_latents': 9,\n",
      " 'n_hid_layers': None,\n",
      " 'n_hid_units': None,\n",
      " 'n_input_channels': 1,\n",
      " 'n_lags': None,\n",
      " 'n_max_lags': 8,\n",
      " 'neural_bin_size': 0.03333333333333333,\n",
      " 'neural_thresh': 1.0,\n",
      " 'neural_type': 'ca',\n",
      " 'optimize_parallel': <bound method HyperOptArgumentParser.optimize_parallel of HyperOptArgumentParser(prog='blank', usage=None, description=None, formatter_class=<class 'argparse.HelpFormatter'>, conflict_handler='error', add_help=True)>,\n",
      " 'optimize_parallel_cpu': <bound method HyperOptArgumentParser.optimize_parallel_cpu of HyperOptArgumentParser(prog='blank', usage=None, description=None, formatter_class=<class 'argparse.HelpFormatter'>, conflict_handler='error', add_help=True)>,\n",
      " 'optimize_parallel_gpu': <bound method HyperOptArgumentParser.optimize_parallel_gpu of HyperOptArgumentParser(prog='blank', usage=None, description=None, formatter_class=<class 'argparse.HelpFormatter'>, conflict_handler='error', add_help=True)>,\n",
      " 'optimize_trials_parallel_gpu': <bound method HyperOptArgumentParser.optimize_trials_parallel_gpu of HyperOptArgumentParser(prog='blank', usage=None, description=None, formatter_class=<class 'argparse.HelpFormatter'>, conflict_handler='error', add_help=True)>,\n",
      " 'reg_list': 'none',\n",
      " 'rng_seed_data': 0,\n",
      " 'rng_seed_model': 0,\n",
      " 'save_dir': '/home/yoni/behavenet/results',\n",
      " 'session': '4',\n",
      " 'session_dir': '/home/yoni/behavenet/results/dipoppa/full_trial/MD0ST5/4',\n",
      " 'subsample_idxs_dataset': 'all',\n",
      " 'subsample_idxs_group_0': 'samples',\n",
      " 'subsample_idxs_group_1': 'cell_types',\n",
      " 'subsample_idxs_name': 'inh_all',\n",
      " 'subsample_method': 'single',\n",
      " 'train_frac': 1.0,\n",
      " 'training_config': '/home/yoni/.behavenet/decoding_training.json',\n",
      " 'trial_splits': '8;1;1;0',\n",
      " 'trials': <bound method HyperOptArgumentParser.opt_trials of HyperOptArgumentParser(prog='blank', usage=None, description=None, formatter_class=<class 'argparse.HelpFormatter'>, conflict_handler='error', add_help=True)>,\n",
      " 'tt_n_cpu_trials': 100000,\n",
      " 'tt_n_cpu_workers': 3,\n",
      " 'tt_n_gpu_trials': 10000,\n",
      " 'use_output_mask': False,\n",
      " 'val_check_interval': 1,\n",
      " 'version': 2,\n",
      " 'x_pixels': 256,\n",
      " 'y_pixels': 128}\n",
      "Session Ids:  [{'lab': 'dipoppa', 'expt': 'full_trial', 'animal': 'MD0ST5', 'session': '4'}] Exp: grid_search, v: 2\n"
     ]
    }
   ],
   "source": [
    "hparams['subsample_idxs_name'] = 'inh_all'\n",
    "hparams['subsample_idxs_group_1'] = 'cell_types'\n",
    "\n",
    "print('Hyperparameters: ')\n",
    "pp.pprint(hparams)\n",
    "print('Session Ids: ', sess_ids, exp)"
   ]
  },
  {
   "cell_type": "code",
   "execution_count": 20,
   "metadata": {},
   "outputs": [
    {
     "name": "stdout",
     "output_type": "stream",
     "text": [
      "using data from following sessions:\n",
      "/home/yoni/behavenet/results/dipoppa/full_trial/MD0ST5/4\n",
      "constructing data generator...done\n",
      "Generator contains 1 SingleSessionDatasetBatchedLoad objects:\n",
      "dipoppa_full_trial_MD0ST5_4\n",
      "    signals: ['neural', 'ae_latents']\n",
      "    transforms: OrderedDict([('neural', Compose(SelectIndxs(idxs=idxs, sample_name=inh_all-single), ZScore(), \b\b)), ('ae_latents', None)])\n",
      "    paths: OrderedDict([('neural', '/home/yoni/behavenet/data/dipoppa/full_trial/MD0ST5/4/data.hdf5'), ('ae_latents', '/home/yoni/behavenet/results/dipoppa/full_trial/MD0ST5/4/ae/conv/09_latents/latent_search/version_1/dipoppa_full_trial_MD0ST5_4_latents.pkl')])\n",
      "\n"
     ]
    }
   ],
   "source": [
    "data_generator = build_data_generator(hparams, sess_ids)"
   ]
  },
  {
   "cell_type": "code",
   "execution_count": 21,
   "metadata": {},
   "outputs": [
    {
     "name": "stdout",
     "output_type": "stream",
     "text": [
      "['exc85_sample_0', 'exc85_sample_1', 'exc85_sample_10', 'exc85_sample_11', 'exc85_sample_12', 'exc85_sample_13', 'exc85_sample_14', 'exc85_sample_15', 'exc85_sample_16', 'exc85_sample_17', 'exc85_sample_18', 'exc85_sample_19', 'exc85_sample_2', 'exc85_sample_3', 'exc85_sample_4', 'exc85_sample_5', 'exc85_sample_6', 'exc85_sample_7', 'exc85_sample_8', 'exc85_sample_9', 'inh_all']\n"
     ]
    }
   ],
   "source": [
    "import behavenet.data.utils as utils\n",
    "print([key for key in utils.get_region_list(hparams)])\n",
    "# for sess_id in sess_ids:\n",
    "#     print(utils.get_transforms_paths('neural', hparams, sess_id))"
   ]
  },
  {
   "cell_type": "code",
   "execution_count": 22,
   "metadata": {},
   "outputs": [
    {
     "name": "stdout",
     "output_type": "stream",
     "text": [
      "AE Latents Size:  torch.Size([1, 150, 9]) \n",
      " Neural Size:  torch.Size([1, 150, 85]) \n",
      "\n"
     ]
    }
   ],
   "source": [
    "data, dataset = data_generator.next_batch('train')\n",
    "\n",
    "print('AE Latents Size: ', data['ae_latents'].shape, '\\n', \n",
    "      'Neural Size: ',     data['neural'].shape, '\\n')"
   ]
  },
  {
   "cell_type": "code",
   "execution_count": 9,
   "metadata": {},
   "outputs": [
    {
     "ename": "FileNotFoundError",
     "evalue": "[Errno 2] No such file or directory: '../.behavenet/dipoppa_test2_params.json'",
     "output_type": "error",
     "traceback": [
      "\u001b[0;31m---------------------------------------------------------------------------\u001b[0m",
      "\u001b[0;31mFileNotFoundError\u001b[0m                         Traceback (most recent call last)",
      "\u001b[0;32m<ipython-input-9-0682db256ec0>\u001b[0m in \u001b[0;36m<module>\u001b[0;34m\u001b[0m\n\u001b[1;32m      7\u001b[0m ../.behavenet/decoding_compute.json'.split(' ')\n\u001b[1;32m      8\u001b[0m \u001b[0;34m\u001b[0m\u001b[0m\n\u001b[0;32m----> 9\u001b[0;31m \u001b[0mhparams\u001b[0m \u001b[0;34m=\u001b[0m \u001b[0mget_all_params\u001b[0m\u001b[0;34m(\u001b[0m\u001b[0margs\u001b[0m\u001b[0;34m)\u001b[0m\u001b[0;34m\u001b[0m\u001b[0;34m\u001b[0m\u001b[0m\n\u001b[0m\u001b[1;32m     10\u001b[0m \u001b[0;32mif\u001b[0m \u001b[0;32mnot\u001b[0m \u001b[0misinstance\u001b[0m\u001b[0;34m(\u001b[0m\u001b[0mhparams\u001b[0m\u001b[0;34m,\u001b[0m \u001b[0mdict\u001b[0m\u001b[0;34m)\u001b[0m\u001b[0;34m:\u001b[0m\u001b[0;34m\u001b[0m\u001b[0;34m\u001b[0m\u001b[0m\n\u001b[1;32m     11\u001b[0m     \u001b[0mhparams\u001b[0m \u001b[0;34m=\u001b[0m \u001b[0mvars\u001b[0m\u001b[0;34m(\u001b[0m\u001b[0mhparams\u001b[0m\u001b[0;34m)\u001b[0m\u001b[0;34m\u001b[0m\u001b[0;34m\u001b[0m\u001b[0m\n",
      "\u001b[0;32m~/behavenet/behavenet/fitting/hyperparam_utils.py\u001b[0m in \u001b[0;36mget_all_params\u001b[0;34m(search_type, args)\u001b[0m\n\u001b[1;32m     32\u001b[0m         namespace.compute_config]\n\u001b[1;32m     33\u001b[0m     \u001b[0;32mfor\u001b[0m \u001b[0mconfig\u001b[0m \u001b[0;32min\u001b[0m \u001b[0mconfigs\u001b[0m\u001b[0;34m:\u001b[0m\u001b[0;34m\u001b[0m\u001b[0;34m\u001b[0m\u001b[0m\n\u001b[0;32m---> 34\u001b[0;31m         \u001b[0mconfig_json\u001b[0m \u001b[0;34m=\u001b[0m \u001b[0mcommentjson\u001b[0m\u001b[0;34m.\u001b[0m\u001b[0mload\u001b[0m\u001b[0;34m(\u001b[0m\u001b[0mopen\u001b[0m\u001b[0;34m(\u001b[0m\u001b[0mconfig\u001b[0m\u001b[0;34m,\u001b[0m \u001b[0;34m'r'\u001b[0m\u001b[0;34m)\u001b[0m\u001b[0;34m)\u001b[0m\u001b[0;34m\u001b[0m\u001b[0;34m\u001b[0m\u001b[0m\n\u001b[0m\u001b[1;32m     35\u001b[0m         \u001b[0;32mfor\u001b[0m \u001b[0;34m(\u001b[0m\u001b[0mkey\u001b[0m\u001b[0;34m,\u001b[0m \u001b[0mvalue\u001b[0m\u001b[0;34m)\u001b[0m \u001b[0;32min\u001b[0m \u001b[0mconfig_json\u001b[0m\u001b[0;34m.\u001b[0m\u001b[0mitems\u001b[0m\u001b[0;34m(\u001b[0m\u001b[0;34m)\u001b[0m\u001b[0;34m:\u001b[0m\u001b[0;34m\u001b[0m\u001b[0;34m\u001b[0m\u001b[0m\n\u001b[1;32m     36\u001b[0m             \u001b[0madd_to_parser\u001b[0m\u001b[0;34m(\u001b[0m\u001b[0mparser\u001b[0m\u001b[0;34m,\u001b[0m \u001b[0mkey\u001b[0m\u001b[0;34m,\u001b[0m \u001b[0mvalue\u001b[0m\u001b[0;34m)\u001b[0m\u001b[0;34m\u001b[0m\u001b[0;34m\u001b[0m\u001b[0m\n",
      "\u001b[0;31mFileNotFoundError\u001b[0m: [Errno 2] No such file or directory: '../.behavenet/dipoppa_test2_params.json'"
     ]
    }
   ],
   "source": [
    "sys.argv = 'blank --data_config ../.behavenet/dipoppa_test2_params.json --model_config \\\n",
    "../.behavenet/decoding_ae_model.json --training_config ../.behavenet/decoding_training.json --compute_config \\\n",
    "../.behavenet/decoding_compute.json'.split(' ')\n",
    "\n",
    "args = '--data_config ../.behavenet/dipoppa_test2_params.json --model_config \\\n",
    "../.behavenet/decoding_ae_model.json --training_config ../.behavenet/decoding_training.json --compute_config \\\n",
    "../.behavenet/decoding_compute.json'.split(' ')\n",
    "\n",
    "hparams = get_all_params(args)\n",
    "if not isinstance(hparams, dict):\n",
    "    hparams = vars(hparams)\n",
    "    \n",
    "hparams, sess_ids, exp = create_tt_experiment(hparams)\n",
    "data_generator = build_data_generator(hparams, sess_ids)\n",
    "\n",
    "standard = next(data_generator.dataset_iters[0]['train'])\n",
    "    \n",
    "print('AE Latents Size: ', data['ae_latents'].shape, '\\n', \n",
    "      'Neural Size: ',     data['neural'].shape, '\\n',\n",
    "      'Num batches: ', data_generator.n_tot_batches['train'])\n",
    "\n",
    "print(data)\n",
    "print(data_generator.datasets[0].batch_idxs['train'])"
   ]
  },
  {
   "cell_type": "code",
   "execution_count": 24,
   "metadata": {},
   "outputs": [],
   "source": [
    "import torch"
   ]
  },
  {
   "cell_type": "code",
   "execution_count": 25,
   "metadata": {},
   "outputs": [
    {
     "ename": "NameError",
     "evalue": "name 'region_based' is not defined",
     "output_type": "error",
     "traceback": [
      "\u001b[0;31m---------------------------------------------------------------------------\u001b[0m",
      "\u001b[0;31mNameError\u001b[0m                                 Traceback (most recent call last)",
      "\u001b[0;32m<ipython-input-25-05cfbb996815>\u001b[0m in \u001b[0;36m<module>\u001b[0;34m\u001b[0m\n\u001b[0;32m----> 1\u001b[0;31m \u001b[0mstandard\u001b[0m\u001b[0;34m[\u001b[0m\u001b[0;34m'neural'\u001b[0m\u001b[0;34m]\u001b[0m\u001b[0;34m.\u001b[0m\u001b[0mshape\u001b[0m\u001b[0;34m,\u001b[0m \u001b[0mregion_based\u001b[0m\u001b[0;34m[\u001b[0m\u001b[0;34m'neural'\u001b[0m\u001b[0;34m]\u001b[0m\u001b[0;34m.\u001b[0m\u001b[0mshape\u001b[0m\u001b[0;34m\u001b[0m\u001b[0;34m\u001b[0m\u001b[0m\n\u001b[0m",
      "\u001b[0;31mNameError\u001b[0m: name 'region_based' is not defined"
     ]
    }
   ],
   "source": [
    "standard['neural'].shape, region_based['neural'].shape"
   ]
  },
  {
   "cell_type": "code",
   "execution_count": 68,
   "metadata": {},
   "outputs": [
    {
     "data": {
      "text/plain": [
       "(tensor([[[ 0.3786, 17.4626,  0.0000,  ..., 20.2941,  0.0000, 11.5820],\n",
       "          [ 1.7131, 16.5192,  0.0000,  ..., 36.0695,  0.0000, 20.5852],\n",
       "          [ 3.0464, 15.5767,  0.0000,  ..., 51.8305,  0.0000, 29.5802],\n",
       "          ...,\n",
       "          [ 7.3460,  1.6241,  0.0000,  ..., 82.5977, 53.0828, 30.5647],\n",
       "          [ 7.5909, 10.0097,  0.0000,  ..., 68.3756, 66.9368, 34.1036],\n",
       "          [ 7.8358, 18.3991,  0.0000,  ..., 54.1470, 80.7972, 37.6441]]]),\n",
       " tensor([[[  9.2579,  35.9963,   0.0000,  ...,  48.0380,   8.9044, 100.7558],\n",
       "          [  6.5598,  35.9261,   0.0000,  ...,  34.9450,   4.9271, 121.8596],\n",
       "          [  3.8592,  35.8558,   0.0000,  ...,  21.8399,   0.9460, 142.9828],\n",
       "          ...,\n",
       "          [  2.1507,  34.3585,   0.0000,  ...,  32.8056,   0.0000,   0.0000],\n",
       "          [  1.5019,  23.9932,   0.0000,  ...,  18.5968,   0.0000,   0.0000],\n",
       "          [  0.8520,  13.6114,   0.0000,  ...,   4.3652,   0.0000,   0.0000]]]))"
      ]
     },
     "execution_count": 68,
     "metadata": {},
     "output_type": "execute_result"
    }
   ],
   "source": [
    "standard['neural'], region_based['neural']"
   ]
  },
  {
   "cell_type": "code",
   "execution_count": 75,
   "metadata": {},
   "outputs": [
    {
     "data": {
      "text/plain": [
       "tensor([[[False, False,  True,  ..., False, False, False],\n",
       "         [False, False,  True,  ..., False, False, False],\n",
       "         [False, False,  True,  ..., False, False, False],\n",
       "         ...,\n",
       "         [False, False,  True,  ..., False, False, False],\n",
       "         [False, False,  True,  ..., False, False, False],\n",
       "         [False, False,  True,  ..., False, False, False]]])"
      ]
     },
     "execution_count": 75,
     "metadata": {},
     "output_type": "execute_result"
    }
   ],
   "source": [
    "torch.eq(standard['neural'], region_based['neural'])"
   ]
  },
  {
   "cell_type": "code",
   "execution_count": 30,
   "metadata": {},
   "outputs": [],
   "source": [
    "import pandas as pd\n",
    "\n",
    "df = pd.read_csv(\"results/dipoppa/test2/MD0ST5/4/neural-ae/09_latents/ff/sample_300-single/grid_search/version_0/metrics.csv\")"
   ]
  },
  {
   "cell_type": "code",
   "execution_count": 31,
   "metadata": {},
   "outputs": [
    {
     "data": {
      "text/html": [
       "<div>\n",
       "<style scoped>\n",
       "    .dataframe tbody tr th:only-of-type {\n",
       "        vertical-align: middle;\n",
       "    }\n",
       "\n",
       "    .dataframe tbody tr th {\n",
       "        vertical-align: top;\n",
       "    }\n",
       "\n",
       "    .dataframe thead th {\n",
       "        text-align: right;\n",
       "    }\n",
       "</style>\n",
       "<table border=\"1\" class=\"dataframe\">\n",
       "  <thead>\n",
       "    <tr style=\"text-align: right;\">\n",
       "      <th></th>\n",
       "      <th>epoch</th>\n",
       "      <th>batch</th>\n",
       "      <th>dataset</th>\n",
       "      <th>trial</th>\n",
       "      <th>tr_loss</th>\n",
       "      <th>tr_r2</th>\n",
       "      <th>tr_fc</th>\n",
       "      <th>created_at</th>\n",
       "      <th>val_loss</th>\n",
       "      <th>val_r2</th>\n",
       "      <th>val_fc</th>\n",
       "      <th>best_val_epoch</th>\n",
       "      <th>test_loss</th>\n",
       "      <th>test_r2</th>\n",
       "      <th>test_fc</th>\n",
       "    </tr>\n",
       "  </thead>\n",
       "  <tbody>\n",
       "    <tr>\n",
       "      <th>0</th>\n",
       "      <td>0</td>\n",
       "      <td>79</td>\n",
       "      <td>-1</td>\n",
       "      <td>-1</td>\n",
       "      <td>112.023133</td>\n",
       "      <td>-10.882368</td>\n",
       "      <td>0.0</td>\n",
       "      <td>2020-02-29 22:56:27.865288</td>\n",
       "      <td>NaN</td>\n",
       "      <td>NaN</td>\n",
       "      <td>NaN</td>\n",
       "      <td>NaN</td>\n",
       "      <td>NaN</td>\n",
       "      <td>NaN</td>\n",
       "      <td>NaN</td>\n",
       "    </tr>\n",
       "    <tr>\n",
       "      <th>1</th>\n",
       "      <td>0</td>\n",
       "      <td>79</td>\n",
       "      <td>-1</td>\n",
       "      <td>-1</td>\n",
       "      <td>NaN</td>\n",
       "      <td>NaN</td>\n",
       "      <td>NaN</td>\n",
       "      <td>2020-02-29 22:56:27.865949</td>\n",
       "      <td>110.322803</td>\n",
       "      <td>-20.186428</td>\n",
       "      <td>0.0</td>\n",
       "      <td>0.0</td>\n",
       "      <td>NaN</td>\n",
       "      <td>NaN</td>\n",
       "      <td>NaN</td>\n",
       "    </tr>\n",
       "    <tr>\n",
       "      <th>2</th>\n",
       "      <td>1</td>\n",
       "      <td>79</td>\n",
       "      <td>-1</td>\n",
       "      <td>-1</td>\n",
       "      <td>104.267507</td>\n",
       "      <td>-10.098085</td>\n",
       "      <td>0.0</td>\n",
       "      <td>2020-02-29 22:56:28.575496</td>\n",
       "      <td>NaN</td>\n",
       "      <td>NaN</td>\n",
       "      <td>NaN</td>\n",
       "      <td>NaN</td>\n",
       "      <td>NaN</td>\n",
       "      <td>NaN</td>\n",
       "      <td>NaN</td>\n",
       "    </tr>\n",
       "    <tr>\n",
       "      <th>3</th>\n",
       "      <td>1</td>\n",
       "      <td>79</td>\n",
       "      <td>-1</td>\n",
       "      <td>-1</td>\n",
       "      <td>NaN</td>\n",
       "      <td>NaN</td>\n",
       "      <td>NaN</td>\n",
       "      <td>2020-02-29 22:56:28.576277</td>\n",
       "      <td>89.117474</td>\n",
       "      <td>-15.926996</td>\n",
       "      <td>0.0</td>\n",
       "      <td>1.0</td>\n",
       "      <td>NaN</td>\n",
       "      <td>NaN</td>\n",
       "      <td>NaN</td>\n",
       "    </tr>\n",
       "    <tr>\n",
       "      <th>4</th>\n",
       "      <td>2</td>\n",
       "      <td>79</td>\n",
       "      <td>-1</td>\n",
       "      <td>-1</td>\n",
       "      <td>75.742481</td>\n",
       "      <td>-7.231776</td>\n",
       "      <td>0.0</td>\n",
       "      <td>2020-02-29 22:56:29.271255</td>\n",
       "      <td>NaN</td>\n",
       "      <td>NaN</td>\n",
       "      <td>NaN</td>\n",
       "      <td>NaN</td>\n",
       "      <td>NaN</td>\n",
       "      <td>NaN</td>\n",
       "      <td>NaN</td>\n",
       "    </tr>\n",
       "    <tr>\n",
       "      <th>5</th>\n",
       "      <td>2</td>\n",
       "      <td>79</td>\n",
       "      <td>-1</td>\n",
       "      <td>-1</td>\n",
       "      <td>NaN</td>\n",
       "      <td>NaN</td>\n",
       "      <td>NaN</td>\n",
       "      <td>2020-02-29 22:56:29.271898</td>\n",
       "      <td>73.285746</td>\n",
       "      <td>-12.590814</td>\n",
       "      <td>0.0</td>\n",
       "      <td>2.0</td>\n",
       "      <td>NaN</td>\n",
       "      <td>NaN</td>\n",
       "      <td>NaN</td>\n",
       "    </tr>\n",
       "    <tr>\n",
       "      <th>6</th>\n",
       "      <td>3</td>\n",
       "      <td>79</td>\n",
       "      <td>-1</td>\n",
       "      <td>-1</td>\n",
       "      <td>65.056973</td>\n",
       "      <td>-6.297641</td>\n",
       "      <td>0.0</td>\n",
       "      <td>2020-02-29 22:56:30.209814</td>\n",
       "      <td>NaN</td>\n",
       "      <td>NaN</td>\n",
       "      <td>NaN</td>\n",
       "      <td>NaN</td>\n",
       "      <td>NaN</td>\n",
       "      <td>NaN</td>\n",
       "      <td>NaN</td>\n",
       "    </tr>\n",
       "    <tr>\n",
       "      <th>7</th>\n",
       "      <td>3</td>\n",
       "      <td>79</td>\n",
       "      <td>-1</td>\n",
       "      <td>-1</td>\n",
       "      <td>NaN</td>\n",
       "      <td>NaN</td>\n",
       "      <td>NaN</td>\n",
       "      <td>2020-02-29 22:56:30.210577</td>\n",
       "      <td>71.578273</td>\n",
       "      <td>-12.343989</td>\n",
       "      <td>0.0</td>\n",
       "      <td>3.0</td>\n",
       "      <td>NaN</td>\n",
       "      <td>NaN</td>\n",
       "      <td>NaN</td>\n",
       "    </tr>\n",
       "    <tr>\n",
       "      <th>8</th>\n",
       "      <td>4</td>\n",
       "      <td>79</td>\n",
       "      <td>-1</td>\n",
       "      <td>-1</td>\n",
       "      <td>61.132606</td>\n",
       "      <td>-6.170390</td>\n",
       "      <td>0.0</td>\n",
       "      <td>2020-02-29 22:56:31.741513</td>\n",
       "      <td>NaN</td>\n",
       "      <td>NaN</td>\n",
       "      <td>NaN</td>\n",
       "      <td>NaN</td>\n",
       "      <td>NaN</td>\n",
       "      <td>NaN</td>\n",
       "      <td>NaN</td>\n",
       "    </tr>\n",
       "    <tr>\n",
       "      <th>9</th>\n",
       "      <td>4</td>\n",
       "      <td>79</td>\n",
       "      <td>-1</td>\n",
       "      <td>-1</td>\n",
       "      <td>NaN</td>\n",
       "      <td>NaN</td>\n",
       "      <td>NaN</td>\n",
       "      <td>2020-02-29 22:56:31.743654</td>\n",
       "      <td>71.265985</td>\n",
       "      <td>-12.397950</td>\n",
       "      <td>0.0</td>\n",
       "      <td>4.0</td>\n",
       "      <td>NaN</td>\n",
       "      <td>NaN</td>\n",
       "      <td>NaN</td>\n",
       "    </tr>\n",
       "  </tbody>\n",
       "</table>\n",
       "</div>"
      ],
      "text/plain": [
       "   epoch  batch  dataset  trial     tr_loss      tr_r2  tr_fc  \\\n",
       "0      0     79       -1     -1  112.023133 -10.882368    0.0   \n",
       "1      0     79       -1     -1         NaN        NaN    NaN   \n",
       "2      1     79       -1     -1  104.267507 -10.098085    0.0   \n",
       "3      1     79       -1     -1         NaN        NaN    NaN   \n",
       "4      2     79       -1     -1   75.742481  -7.231776    0.0   \n",
       "5      2     79       -1     -1         NaN        NaN    NaN   \n",
       "6      3     79       -1     -1   65.056973  -6.297641    0.0   \n",
       "7      3     79       -1     -1         NaN        NaN    NaN   \n",
       "8      4     79       -1     -1   61.132606  -6.170390    0.0   \n",
       "9      4     79       -1     -1         NaN        NaN    NaN   \n",
       "\n",
       "                   created_at    val_loss     val_r2  val_fc  best_val_epoch  \\\n",
       "0  2020-02-29 22:56:27.865288         NaN        NaN     NaN             NaN   \n",
       "1  2020-02-29 22:56:27.865949  110.322803 -20.186428     0.0             0.0   \n",
       "2  2020-02-29 22:56:28.575496         NaN        NaN     NaN             NaN   \n",
       "3  2020-02-29 22:56:28.576277   89.117474 -15.926996     0.0             1.0   \n",
       "4  2020-02-29 22:56:29.271255         NaN        NaN     NaN             NaN   \n",
       "5  2020-02-29 22:56:29.271898   73.285746 -12.590814     0.0             2.0   \n",
       "6  2020-02-29 22:56:30.209814         NaN        NaN     NaN             NaN   \n",
       "7  2020-02-29 22:56:30.210577   71.578273 -12.343989     0.0             3.0   \n",
       "8  2020-02-29 22:56:31.741513         NaN        NaN     NaN             NaN   \n",
       "9  2020-02-29 22:56:31.743654   71.265985 -12.397950     0.0             4.0   \n",
       "\n",
       "   test_loss  test_r2  test_fc  \n",
       "0        NaN      NaN      NaN  \n",
       "1        NaN      NaN      NaN  \n",
       "2        NaN      NaN      NaN  \n",
       "3        NaN      NaN      NaN  \n",
       "4        NaN      NaN      NaN  \n",
       "5        NaN      NaN      NaN  \n",
       "6        NaN      NaN      NaN  \n",
       "7        NaN      NaN      NaN  \n",
       "8        NaN      NaN      NaN  \n",
       "9        NaN      NaN      NaN  "
      ]
     },
     "execution_count": 31,
     "metadata": {},
     "output_type": "execute_result"
    }
   ],
   "source": [
    "df.head(10)"
   ]
  },
  {
   "cell_type": "code",
   "execution_count": 33,
   "metadata": {},
   "outputs": [],
   "source": [
    "df = pd.read_csv('results/dipoppa/test2/MD0ST5/4/neural-ae/09_latents/ff/sample_100-single/grid_search/version_0/meta_tags.csv')"
   ]
  },
  {
   "cell_type": "code",
   "execution_count": 34,
   "metadata": {},
   "outputs": [
    {
     "data": {
      "text/html": [
       "<div>\n",
       "<style scoped>\n",
       "    .dataframe tbody tr th:only-of-type {\n",
       "        vertical-align: middle;\n",
       "    }\n",
       "\n",
       "    .dataframe tbody tr th {\n",
       "        vertical-align: top;\n",
       "    }\n",
       "\n",
       "    .dataframe thead th {\n",
       "        text-align: right;\n",
       "    }\n",
       "</style>\n",
       "<table border=\"1\" class=\"dataframe\">\n",
       "  <thead>\n",
       "    <tr style=\"text-align: right;\">\n",
       "      <th></th>\n",
       "      <th>key</th>\n",
       "      <th>value</th>\n",
       "    </tr>\n",
       "  </thead>\n",
       "  <tbody>\n",
       "    <tr>\n",
       "      <th>0</th>\n",
       "      <td>n_lags</td>\n",
       "      <td>4</td>\n",
       "    </tr>\n",
       "    <tr>\n",
       "      <th>1</th>\n",
       "      <td>l2_reg</td>\n",
       "      <td>0.1</td>\n",
       "    </tr>\n",
       "    <tr>\n",
       "      <th>2</th>\n",
       "      <td>n_hid_layers</td>\n",
       "      <td>1</td>\n",
       "    </tr>\n",
       "    <tr>\n",
       "      <th>3</th>\n",
       "      <td>n_hid_units</td>\n",
       "      <td>32</td>\n",
       "    </tr>\n",
       "    <tr>\n",
       "      <th>4</th>\n",
       "      <td>subsample_idxs_name</td>\n",
       "      <td>sample_100</td>\n",
       "    </tr>\n",
       "    <tr>\n",
       "      <th>...</th>\n",
       "      <td>...</td>\n",
       "      <td>...</td>\n",
       "    </tr>\n",
       "    <tr>\n",
       "      <th>65</th>\n",
       "      <td>ae_model_path</td>\n",
       "      <td>/home/yoni/behavenet/results/dipoppa/test2/MD0...</td>\n",
       "    </tr>\n",
       "    <tr>\n",
       "      <th>66</th>\n",
       "      <td>ae_model_latents_file</td>\n",
       "      <td>/home/yoni/behavenet/results/dipoppa/test2/MD0...</td>\n",
       "    </tr>\n",
       "    <tr>\n",
       "      <th>67</th>\n",
       "      <td>model_build_rnd_seed</td>\n",
       "      <td>tensor([0, 0, 0,  ..., 0, 0, 0], dtype=torch.u...</td>\n",
       "    </tr>\n",
       "    <tr>\n",
       "      <th>68</th>\n",
       "      <td>training_rnd_seed</td>\n",
       "      <td>tensor([0, 0, 0,  ..., 0, 0, 0], dtype=torch.u...</td>\n",
       "    </tr>\n",
       "    <tr>\n",
       "      <th>69</th>\n",
       "      <td>training_completed</td>\n",
       "      <td>True</td>\n",
       "    </tr>\n",
       "  </tbody>\n",
       "</table>\n",
       "<p>70 rows × 2 columns</p>\n",
       "</div>"
      ],
      "text/plain": [
       "                      key                                              value\n",
       "0                  n_lags                                                  4\n",
       "1                  l2_reg                                                0.1\n",
       "2            n_hid_layers                                                  1\n",
       "3             n_hid_units                                                 32\n",
       "4     subsample_idxs_name                                         sample_100\n",
       "..                    ...                                                ...\n",
       "65          ae_model_path  /home/yoni/behavenet/results/dipoppa/test2/MD0...\n",
       "66  ae_model_latents_file  /home/yoni/behavenet/results/dipoppa/test2/MD0...\n",
       "67   model_build_rnd_seed  tensor([0, 0, 0,  ..., 0, 0, 0], dtype=torch.u...\n",
       "68      training_rnd_seed  tensor([0, 0, 0,  ..., 0, 0, 0], dtype=torch.u...\n",
       "69     training_completed                                               True\n",
       "\n",
       "[70 rows x 2 columns]"
      ]
     },
     "execution_count": 34,
     "metadata": {},
     "output_type": "execute_result"
    }
   ],
   "source": [
    "df"
   ]
  }
 ],
 "metadata": {
  "kernelspec": {
   "display_name": "behavenet",
   "language": "python",
   "name": "behavenet"
  },
  "language_info": {
   "codemirror_mode": {
    "name": "ipython",
    "version": 3
   },
   "file_extension": ".py",
   "mimetype": "text/x-python",
   "name": "python",
   "nbconvert_exporter": "python",
   "pygments_lexer": "ipython3",
   "version": "3.7.2"
  }
 },
 "nbformat": 4,
 "nbformat_minor": 4
}
